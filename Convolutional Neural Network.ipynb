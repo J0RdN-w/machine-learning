{
 "cells": [
  {
   "cell_type": "code",
   "execution_count": null,
   "id": "6490b908",
   "metadata": {},
   "outputs": [],
   "source": [
    "import tensorflow as tf\n",
    "from tensorflow import  keras"
   ]
  },
  {
   "cell_type": "code",
   "execution_count": null,
   "id": "51da5224",
   "metadata": {},
   "outputs": [],
   "source": [
    "fashion_mnist = keras.datasets.fashion_mnist\n",
    "(train_images, train_labels), (test_images, test_labels) = fashion_mnist.load_data()\n",
    "# normalizing the data\n",
    "train_images = train_images / 255.0\n",
    "test_images = test_images / 255.0"
   ]
  },
  {
   "cell_type": "code",
   "execution_count": null,
   "id": "bd696a09",
   "metadata": {},
   "outputs": [],
   "source": [
    "# callback to stop the training at favorable loss score\n",
    "class MyCallback(keras.callbacks.Callback):\n",
    "    def on_epoch_end(self, epoch, logs={}):\n",
    "        if(logs.get('loss') < 0.5):\n",
    "            print('\\nLoss is low so cancelling training!')\n",
    "            self.model.stop_training = True"
   ]
  },
  {
   "cell_type": "code",
   "execution_count": null,
   "id": "dab422e1",
   "metadata": {},
   "outputs": [],
   "source": [
    "my_callback = MyCallback()\n",
    "model = keras.Sequentail([\n",
    "    # 64 -> number of filters\n",
    "    # (3,3) -> filter shape\n",
    "    # relu -> activation function wich throw away negative values\n",
    "    # 1 in the input shape shows a single bayte for color depth b/c the image is gray scale\n",
    "    keras.layers.Conv2D(64, (3,3), activation='relu', input_shape=(28,28,1)),\n",
    "    keras.layers.MaxPooling2D(2,2),\n",
    "    keras.layers.Conv2D(64, (3,3), activation='relu'),\n",
    "    keras.lyaers.MaxPooling2D(2,2),\n",
    "    keras.layers.Flatten(),\n",
    "    keras.layers.Dense(128, activation=tf.nn.relu),\n",
    "    keras.layers.Dense(10, activation=tf.nn.softmax),\n",
    "    ]\n",
    ")\n",
    "model.compile(optimizer='adam', loss='sparse_categorical_crossentropy', metrics = ['acc'])\n",
    "model.fit(train_images, train_labels, epochs=5, collbacks = [my_callback])\n",
    "loss, accurecy = model.evaluate(test_images, test_labels)\n",
    "model.summary()\n",
    "model.save('computer_vision.model')"
   ]
  }
 ],
 "metadata": {
  "kernelspec": {
   "display_name": "Python 3 (ipykernel)",
   "language": "python",
   "name": "python3"
  },
  "language_info": {
   "codemirror_mode": {
    "name": "ipython",
    "version": 3
   },
   "file_extension": ".py",
   "mimetype": "text/x-python",
   "name": "python",
   "nbconvert_exporter": "python",
   "pygments_lexer": "ipython3",
   "version": "3.9.7"
  }
 },
 "nbformat": 4,
 "nbformat_minor": 5
}
