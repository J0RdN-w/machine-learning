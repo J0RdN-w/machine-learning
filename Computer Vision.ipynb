{
 "cells": [
  {
   "cell_type": "code",
   "execution_count": 1,
   "metadata": {},
   "outputs": [],
   "source": [
    "import tensorflow as tf\n",
    "from tensorflow import  keras"
   ]
  },
  {
   "cell_type": "code",
   "execution_count": null,
   "metadata": {},
   "outputs": [],
   "source": [
    "fashion_mnist = keras.datasets.fashion_mnist\n",
    "(train_images, train_labels), (test_images, test_labels) = fashion_mnist.load_data()\n",
    "# normalizing the data\n",
    "train_images = train_images / 255.0\n",
    "test_images = test_images / 255.0"
   ]
  },
  {
   "cell_type": "code",
   "execution_count": null,
   "metadata": {},
   "outputs": [],
   "source": [
    "# callback to stop the training at fav loss score\n",
    "class MyCallback(keras.callbacks.Callback):\n",
    "    def on_epoch_end(self, epoch, logs={}):\n",
    "        if(logs.get('loss') < 0.2):\n",
    "            print('\\nLoss is low so cancelling training!')\n",
    "            self.model.stop_training = True"
   ]
  },
  {
   "cell_type": "code",
   "execution_count": null,
   "metadata": {},
   "outputs": [],
   "source": [
    "my_callback = MyCallback()\n",
    "model = keras.Sequentail(\n",
    "    [keras.layers.Flatten(input_shape=(28,28))],\n",
    "    [keras.layers.Dense(128, activation=tf.nn.relu)],\n",
    "    [keras.layers.Dense(10, activation=tf.nn.softmax)]\n",
    ")\n",
    "model.compile(optimizer='adam', loss='sparse_categorical_crossentropy', metrics = [accuracy])\n",
    "model.fit(train_images, train_labels, epochs=5, collbacks = [my_callback])\n",
    "loss, accurecy = model.evaluate(test_images, test_labels)\n",
    "model.save('computer_vision.model')"
   ]
  }
 ],
 "metadata": {
  "interpreter": {
   "hash": "3bd6d911f1576b0be2ac96b07a13fdaa0bb6a3771ce68bd319560bf46fbd7117"
  },
  "kernelspec": {
   "display_name": "Python 3 (ipykernel)",
   "language": "python",
   "name": "python3"
  },
  "language_info": {
   "codemirror_mode": {
    "name": "ipython",
    "version": 3
   },
   "file_extension": ".py",
   "mimetype": "text/x-python",
   "name": "python",
   "nbconvert_exporter": "python",
   "pygments_lexer": "ipython3",
   "version": "3.9.7"
  }
 },
 "nbformat": 4,
 "nbformat_minor": 2
}
